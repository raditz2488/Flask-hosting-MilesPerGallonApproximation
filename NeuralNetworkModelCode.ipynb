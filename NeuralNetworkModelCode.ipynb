{
 "cells": [
  {
   "cell_type": "markdown",
   "metadata": {},
   "source": [
    "# This file contains code to generate a neural network model to approximate the miles per gallon for a car with given features"
   ]
  },
  {
   "cell_type": "markdown",
   "metadata": {},
   "source": [
    "- Read the dataset\n",
    "- Clean the dataset\n",
    "- Create X and y from the dataset\n",
    "- Perform train test split\n",
    "- Create the model\n",
    "- Fit the model\n",
    "- Verify the model\n",
    "- Save the model to disk"
   ]
  },
  {
   "cell_type": "code",
   "execution_count": 67,
   "metadata": {},
   "outputs": [],
   "source": [
    "import pandas as pd\n",
    "from sklearn.model_selection import train_test_split\n",
    "from tensorflow.keras.models import Sequential\n",
    "from tensorflow.keras.layers import Dense\n",
    "from tensorflow.keras.callbacks import EarlyStopping\n",
    "from sklearn import metrics\n",
    "import numpy as np"
   ]
  },
  {
   "cell_type": "markdown",
   "metadata": {},
   "source": [
    "## Read the dataset"
   ]
  },
  {
   "cell_type": "code",
   "execution_count": 53,
   "metadata": {
    "scrolled": true
   },
   "outputs": [
    {
     "data": {
      "text/html": [
       "<div>\n",
       "<style scoped>\n",
       "    .dataframe tbody tr th:only-of-type {\n",
       "        vertical-align: middle;\n",
       "    }\n",
       "\n",
       "    .dataframe tbody tr th {\n",
       "        vertical-align: top;\n",
       "    }\n",
       "\n",
       "    .dataframe thead th {\n",
       "        text-align: right;\n",
       "    }\n",
       "</style>\n",
       "<table border=\"1\" class=\"dataframe\">\n",
       "  <thead>\n",
       "    <tr style=\"text-align: right;\">\n",
       "      <th></th>\n",
       "      <th>mpg</th>\n",
       "      <th>cylinders</th>\n",
       "      <th>displacement</th>\n",
       "      <th>horsepower</th>\n",
       "      <th>weight</th>\n",
       "      <th>acceleration</th>\n",
       "      <th>year</th>\n",
       "      <th>origin</th>\n",
       "      <th>name</th>\n",
       "    </tr>\n",
       "  </thead>\n",
       "  <tbody>\n",
       "    <tr>\n",
       "      <td>0</td>\n",
       "      <td>18.0</td>\n",
       "      <td>8</td>\n",
       "      <td>307.0</td>\n",
       "      <td>130.0</td>\n",
       "      <td>3504</td>\n",
       "      <td>12.0</td>\n",
       "      <td>70</td>\n",
       "      <td>1</td>\n",
       "      <td>chevrolet chevelle malibu</td>\n",
       "    </tr>\n",
       "    <tr>\n",
       "      <td>1</td>\n",
       "      <td>15.0</td>\n",
       "      <td>8</td>\n",
       "      <td>350.0</td>\n",
       "      <td>165.0</td>\n",
       "      <td>3693</td>\n",
       "      <td>11.5</td>\n",
       "      <td>70</td>\n",
       "      <td>1</td>\n",
       "      <td>buick skylark 320</td>\n",
       "    </tr>\n",
       "    <tr>\n",
       "      <td>2</td>\n",
       "      <td>18.0</td>\n",
       "      <td>8</td>\n",
       "      <td>318.0</td>\n",
       "      <td>150.0</td>\n",
       "      <td>3436</td>\n",
       "      <td>11.0</td>\n",
       "      <td>70</td>\n",
       "      <td>1</td>\n",
       "      <td>plymouth satellite</td>\n",
       "    </tr>\n",
       "    <tr>\n",
       "      <td>3</td>\n",
       "      <td>16.0</td>\n",
       "      <td>8</td>\n",
       "      <td>304.0</td>\n",
       "      <td>150.0</td>\n",
       "      <td>3433</td>\n",
       "      <td>12.0</td>\n",
       "      <td>70</td>\n",
       "      <td>1</td>\n",
       "      <td>amc rebel sst</td>\n",
       "    </tr>\n",
       "    <tr>\n",
       "      <td>4</td>\n",
       "      <td>17.0</td>\n",
       "      <td>8</td>\n",
       "      <td>302.0</td>\n",
       "      <td>140.0</td>\n",
       "      <td>3449</td>\n",
       "      <td>10.5</td>\n",
       "      <td>70</td>\n",
       "      <td>1</td>\n",
       "      <td>ford torino</td>\n",
       "    </tr>\n",
       "  </tbody>\n",
       "</table>\n",
       "</div>"
      ],
      "text/plain": [
       "    mpg  cylinders  displacement  horsepower  weight  acceleration  year  \\\n",
       "0  18.0          8         307.0       130.0    3504          12.0    70   \n",
       "1  15.0          8         350.0       165.0    3693          11.5    70   \n",
       "2  18.0          8         318.0       150.0    3436          11.0    70   \n",
       "3  16.0          8         304.0       150.0    3433          12.0    70   \n",
       "4  17.0          8         302.0       140.0    3449          10.5    70   \n",
       "\n",
       "   origin                       name  \n",
       "0       1  chevrolet chevelle malibu  \n",
       "1       1          buick skylark 320  \n",
       "2       1         plymouth satellite  \n",
       "3       1              amc rebel sst  \n",
       "4       1                ford torino  "
      ]
     },
     "execution_count": 53,
     "metadata": {},
     "output_type": "execute_result"
    }
   ],
   "source": [
    "df = pd.read_csv('auto-mpg.csv', na_values=['NA', '?'])\n",
    "df.head()"
   ]
  },
  {
   "cell_type": "markdown",
   "metadata": {},
   "source": [
    "## Clean the dataset"
   ]
  },
  {
   "cell_type": "markdown",
   "metadata": {},
   "source": [
    "Find the null values"
   ]
  },
  {
   "cell_type": "code",
   "execution_count": 54,
   "metadata": {},
   "outputs": [
    {
     "data": {
      "text/plain": [
       "mpg             0\n",
       "cylinders       0\n",
       "displacement    0\n",
       "horsepower      6\n",
       "weight          0\n",
       "acceleration    0\n",
       "year            0\n",
       "origin          0\n",
       "name            0\n",
       "dtype: int64"
      ]
     },
     "execution_count": 54,
     "metadata": {},
     "output_type": "execute_result"
    }
   ],
   "source": [
    "df.isnull().sum()"
   ]
  },
  {
   "cell_type": "markdown",
   "metadata": {},
   "source": [
    "We replace the null values with the median"
   ]
  },
  {
   "cell_type": "code",
   "execution_count": 55,
   "metadata": {},
   "outputs": [],
   "source": [
    "df['horsepower'] = df['horsepower'].fillna(df['horsepower'].median())"
   ]
  },
  {
   "cell_type": "code",
   "execution_count": 56,
   "metadata": {},
   "outputs": [
    {
     "data": {
      "text/plain": [
       "mpg             0\n",
       "cylinders       0\n",
       "displacement    0\n",
       "horsepower      0\n",
       "weight          0\n",
       "acceleration    0\n",
       "year            0\n",
       "origin          0\n",
       "name            0\n",
       "dtype: int64"
      ]
     },
     "execution_count": 56,
     "metadata": {},
     "output_type": "execute_result"
    }
   ],
   "source": [
    "df.isnull().sum()"
   ]
  },
  {
   "cell_type": "markdown",
   "metadata": {},
   "source": [
    "## Create X and y from the dataset"
   ]
  },
  {
   "cell_type": "code",
   "execution_count": 57,
   "metadata": {},
   "outputs": [],
   "source": [
    "y = df.pop('mpg').values\n",
    "X = df.drop('name', axis=1).values"
   ]
  },
  {
   "cell_type": "code",
   "execution_count": 58,
   "metadata": {},
   "outputs": [
    {
     "data": {
      "text/plain": [
       "array([18., 15., 18., 16., 17.])"
      ]
     },
     "execution_count": 58,
     "metadata": {},
     "output_type": "execute_result"
    }
   ],
   "source": [
    "y[:5]"
   ]
  },
  {
   "cell_type": "code",
   "execution_count": 59,
   "metadata": {},
   "outputs": [
    {
     "data": {
      "text/plain": [
       "array([[8.000e+00, 3.070e+02, 1.300e+02, 3.504e+03, 1.200e+01, 7.000e+01,\n",
       "        1.000e+00],\n",
       "       [8.000e+00, 3.500e+02, 1.650e+02, 3.693e+03, 1.150e+01, 7.000e+01,\n",
       "        1.000e+00],\n",
       "       [8.000e+00, 3.180e+02, 1.500e+02, 3.436e+03, 1.100e+01, 7.000e+01,\n",
       "        1.000e+00],\n",
       "       [8.000e+00, 3.040e+02, 1.500e+02, 3.433e+03, 1.200e+01, 7.000e+01,\n",
       "        1.000e+00],\n",
       "       [8.000e+00, 3.020e+02, 1.400e+02, 3.449e+03, 1.050e+01, 7.000e+01,\n",
       "        1.000e+00]])"
      ]
     },
     "execution_count": 59,
     "metadata": {},
     "output_type": "execute_result"
    }
   ],
   "source": [
    "X[:5]"
   ]
  },
  {
   "cell_type": "markdown",
   "metadata": {},
   "source": [
    "## Perform train test split"
   ]
  },
  {
   "cell_type": "code",
   "execution_count": 60,
   "metadata": {},
   "outputs": [],
   "source": [
    "X_train, X_test, y_train, y_test = train_test_split(X, y, test_size=0.25, random_state=42)"
   ]
  },
  {
   "cell_type": "markdown",
   "metadata": {},
   "source": [
    "## Create the model"
   ]
  },
  {
   "cell_type": "code",
   "execution_count": 61,
   "metadata": {},
   "outputs": [],
   "source": [
    "model = Sequential([\n",
    "    Dense(25, input_dim=X_train.shape[1], activation='relu'),\n",
    "    Dense(10, activation='relu'),\n",
    "    Dense(1)\n",
    "])"
   ]
  },
  {
   "cell_type": "code",
   "execution_count": 62,
   "metadata": {},
   "outputs": [
    {
     "name": "stdout",
     "output_type": "stream",
     "text": [
      "Model: \"sequential_1\"\n",
      "_________________________________________________________________\n",
      "Layer (type)                 Output Shape              Param #   \n",
      "=================================================================\n",
      "dense_3 (Dense)              (None, 25)                200       \n",
      "_________________________________________________________________\n",
      "dense_4 (Dense)              (None, 10)                260       \n",
      "_________________________________________________________________\n",
      "dense_5 (Dense)              (None, 1)                 11        \n",
      "=================================================================\n",
      "Total params: 471\n",
      "Trainable params: 471\n",
      "Non-trainable params: 0\n",
      "_________________________________________________________________\n"
     ]
    }
   ],
   "source": [
    "model.compile(loss='mean_squared_error', optimizer='adam')\n",
    "model.summary()"
   ]
  },
  {
   "cell_type": "code",
   "execution_count": 63,
   "metadata": {},
   "outputs": [],
   "source": [
    "early_stopping = EarlyStopping(monitor='val_loss', min_delta=1e-3, patience=5, verbose=1, mode='auto', restore_best_weights=True)"
   ]
  },
  {
   "cell_type": "markdown",
   "metadata": {},
   "source": [
    "## Fit the model"
   ]
  },
  {
   "cell_type": "code",
   "execution_count": 64,
   "metadata": {},
   "outputs": [
    {
     "name": "stdout",
     "output_type": "stream",
     "text": [
      "Train on 298 samples, validate on 100 samples\n",
      "Epoch 1/1000\n",
      "298/298 - 1s - loss: 2947.3437 - val_loss: 1932.5704\n",
      "Epoch 2/1000\n",
      "298/298 - 0s - loss: 773.0710 - val_loss: 860.4151\n",
      "Epoch 3/1000\n",
      "298/298 - 0s - loss: 419.5301 - val_loss: 430.5986\n",
      "Epoch 4/1000\n",
      "298/298 - 0s - loss: 261.5668 - val_loss: 242.1064\n",
      "Epoch 5/1000\n",
      "298/298 - 0s - loss: 191.2243 - val_loss: 213.9000\n",
      "Epoch 6/1000\n",
      "298/298 - 0s - loss: 182.6175 - val_loss: 164.0566\n",
      "Epoch 7/1000\n",
      "298/298 - 0s - loss: 158.2214 - val_loss: 152.4150\n",
      "Epoch 8/1000\n",
      "298/298 - 0s - loss: 145.4029 - val_loss: 141.7545\n",
      "Epoch 9/1000\n",
      "298/298 - 0s - loss: 133.7412 - val_loss: 134.8809\n",
      "Epoch 10/1000\n",
      "298/298 - 0s - loss: 128.8909 - val_loss: 130.1175\n",
      "Epoch 11/1000\n",
      "298/298 - 0s - loss: 125.0012 - val_loss: 127.2711\n",
      "Epoch 12/1000\n",
      "298/298 - 0s - loss: 120.4884 - val_loss: 121.8039\n",
      "Epoch 13/1000\n",
      "298/298 - 0s - loss: 117.0906 - val_loss: 114.6618\n",
      "Epoch 14/1000\n",
      "298/298 - 0s - loss: 109.8408 - val_loss: 108.7218\n",
      "Epoch 15/1000\n",
      "298/298 - 0s - loss: 105.7079 - val_loss: 106.3798\n",
      "Epoch 16/1000\n",
      "298/298 - 0s - loss: 101.5013 - val_loss: 97.5254\n",
      "Epoch 17/1000\n",
      "298/298 - 0s - loss: 95.9504 - val_loss: 93.1308\n",
      "Epoch 18/1000\n",
      "298/298 - 0s - loss: 92.4144 - val_loss: 88.0106\n",
      "Epoch 19/1000\n",
      "298/298 - 0s - loss: 88.7587 - val_loss: 89.1010\n",
      "Epoch 20/1000\n",
      "298/298 - 0s - loss: 86.5039 - val_loss: 85.3030\n",
      "Epoch 21/1000\n",
      "298/298 - 0s - loss: 82.5562 - val_loss: 77.7625\n",
      "Epoch 22/1000\n",
      "298/298 - 0s - loss: 83.5740 - val_loss: 74.7842\n",
      "Epoch 23/1000\n",
      "298/298 - 0s - loss: 74.4585 - val_loss: 68.9731\n",
      "Epoch 24/1000\n",
      "298/298 - 0s - loss: 71.0211 - val_loss: 73.7788\n",
      "Epoch 25/1000\n",
      "298/298 - 0s - loss: 73.9106 - val_loss: 62.4510\n",
      "Epoch 26/1000\n",
      "298/298 - 0s - loss: 64.2748 - val_loss: 64.2183\n",
      "Epoch 27/1000\n",
      "298/298 - 0s - loss: 64.2716 - val_loss: 56.5647\n",
      "Epoch 28/1000\n",
      "298/298 - 0s - loss: 60.1289 - val_loss: 54.9579\n",
      "Epoch 29/1000\n",
      "298/298 - 0s - loss: 60.3978 - val_loss: 63.7684\n",
      "Epoch 30/1000\n",
      "298/298 - 0s - loss: 64.1859 - val_loss: 52.4181\n",
      "Epoch 31/1000\n",
      "298/298 - 0s - loss: 57.0549 - val_loss: 58.7745\n",
      "Epoch 32/1000\n",
      "298/298 - 0s - loss: 58.0349 - val_loss: 45.8900\n",
      "Epoch 33/1000\n",
      "298/298 - 0s - loss: 52.3400 - val_loss: 43.9812\n",
      "Epoch 34/1000\n",
      "298/298 - 0s - loss: 48.8398 - val_loss: 42.3800\n",
      "Epoch 35/1000\n",
      "298/298 - 0s - loss: 46.7354 - val_loss: 41.1563\n",
      "Epoch 36/1000\n",
      "298/298 - 0s - loss: 45.2249 - val_loss: 43.8206\n",
      "Epoch 37/1000\n",
      "298/298 - 0s - loss: 47.7261 - val_loss: 38.4523\n",
      "Epoch 38/1000\n",
      "298/298 - 0s - loss: 45.9532 - val_loss: 37.9496\n",
      "Epoch 39/1000\n",
      "298/298 - 0s - loss: 43.3617 - val_loss: 36.7659\n",
      "Epoch 40/1000\n",
      "298/298 - 0s - loss: 41.9954 - val_loss: 37.7228\n",
      "Epoch 41/1000\n",
      "298/298 - 0s - loss: 41.2988 - val_loss: 39.0704\n",
      "Epoch 42/1000\n",
      "298/298 - 0s - loss: 40.1348 - val_loss: 35.0465\n",
      "Epoch 43/1000\n",
      "298/298 - 0s - loss: 40.5580 - val_loss: 38.8119\n",
      "Epoch 44/1000\n",
      "298/298 - 0s - loss: 39.3758 - val_loss: 32.8958\n",
      "Epoch 45/1000\n",
      "298/298 - 0s - loss: 37.7258 - val_loss: 32.0493\n",
      "Epoch 46/1000\n",
      "298/298 - 0s - loss: 37.1228 - val_loss: 31.3931\n",
      "Epoch 47/1000\n",
      "298/298 - 0s - loss: 36.7791 - val_loss: 31.5533\n",
      "Epoch 48/1000\n",
      "298/298 - 0s - loss: 36.2781 - val_loss: 35.0674\n",
      "Epoch 49/1000\n",
      "298/298 - 0s - loss: 36.4631 - val_loss: 37.0676\n",
      "Epoch 50/1000\n",
      "298/298 - 0s - loss: 37.8901 - val_loss: 37.7562\n",
      "Epoch 51/1000\n",
      "Restoring model weights from the end of the best epoch.\n",
      "298/298 - 0s - loss: 37.6767 - val_loss: 33.5354\n",
      "Epoch 00051: early stopping\n"
     ]
    },
    {
     "data": {
      "text/plain": [
       "<tensorflow.python.keras.callbacks.History at 0x7ffc86449490>"
      ]
     },
     "execution_count": 64,
     "metadata": {},
     "output_type": "execute_result"
    }
   ],
   "source": [
    "model.fit(X_train, y_train, validation_data=(X_test, y_test), callbacks=[early_stopping], verbose=2, epochs=1000)"
   ]
  },
  {
   "cell_type": "markdown",
   "metadata": {},
   "source": [
    "## Verify the model"
   ]
  },
  {
   "cell_type": "code",
   "execution_count": 71,
   "metadata": {},
   "outputs": [
    {
     "name": "stdout",
     "output_type": "stream",
     "text": [
      "The error on the test set is 5.602953722643528\n"
     ]
    }
   ],
   "source": [
    "y_test_pred = model.predict(X_test)\n",
    "error_sqrt = np.sqrt(metrics.mean_squared_error(y_test_pred, y_test))\n",
    "print(f'The error on the test set is {error_sqrt}')"
   ]
  },
  {
   "cell_type": "markdown",
   "metadata": {},
   "source": [
    "## Save the model to disk"
   ]
  },
  {
   "cell_type": "code",
   "execution_count": 72,
   "metadata": {},
   "outputs": [],
   "source": [
    "model.save('mpg_model.h5')"
   ]
  },
  {
   "cell_type": "code",
   "execution_count": null,
   "metadata": {},
   "outputs": [],
   "source": []
  }
 ],
 "metadata": {
  "kernelspec": {
   "display_name": "Python 3",
   "language": "python",
   "name": "python3"
  },
  "language_info": {
   "codemirror_mode": {
    "name": "ipython",
    "version": 3
   },
   "file_extension": ".py",
   "mimetype": "text/x-python",
   "name": "python",
   "nbconvert_exporter": "python",
   "pygments_lexer": "ipython3",
   "version": "3.7.4"
  }
 },
 "nbformat": 4,
 "nbformat_minor": 2
}
