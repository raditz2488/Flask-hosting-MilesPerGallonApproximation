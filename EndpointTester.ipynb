{
 "cells": [
  {
   "cell_type": "markdown",
   "metadata": {},
   "source": [
    "# This file is used to test the endpoint api created by our app"
   ]
  },
  {
   "cell_type": "markdown",
   "metadata": {},
   "source": [
    "- Run the CarsMPG.py file from terminal\n",
    "    - Go to the parent folder of this file and open terminal in this folder.\n",
    "    - In ther terminal execute the command: python CarsMPG.py\n",
    "    - This will start the app and it will output the endpoint on which it is hosted. Typically: "
   ]
  },
  {
   "cell_type": "code",
   "execution_count": 3,
   "metadata": {},
   "outputs": [],
   "source": [
    "import requests"
   ]
  },
  {
   "cell_type": "code",
   "execution_count": 4,
   "metadata": {},
   "outputs": [
    {
     "name": "stdout",
     "output_type": "stream",
     "text": [
      "Works: {\n",
      "  \"errors\": [], \n",
      "  \"id\": \"18bea3d4-d7b1-4819-89d0-eb9332444a72\", \n",
      "  \"mpg\": 13.14367961883545\n",
      "}\n",
      "\n"
     ]
    }
   ],
   "source": [
    "json = {\"cylinders\":8,\n",
    "       \"displacement\":300,\n",
    "       \"horsepower\": 78,\n",
    "       \"weight\": 3500,\n",
    "       \"acceleration\": 20,\n",
    "       \"year\": 76,\n",
    "       \"origin\":1}\n",
    "\n",
    "r  = requests.post(\"http://localhost:5000/api\", json=json)\n",
    "if r.status_code == 200:\n",
    "    print(\"Works: {}\".format(r.text))\n",
    "else: \n",
    "    print(\"Fail:{}\".format(r.text))"
   ]
  },
  {
   "cell_type": "code",
   "execution_count": null,
   "metadata": {},
   "outputs": [],
   "source": []
  }
 ],
 "metadata": {
  "kernelspec": {
   "display_name": "Python 3",
   "language": "python",
   "name": "python3"
  },
  "language_info": {
   "codemirror_mode": {
    "name": "ipython",
    "version": 3
   },
   "file_extension": ".py",
   "mimetype": "text/x-python",
   "name": "python",
   "nbconvert_exporter": "python",
   "pygments_lexer": "ipython3",
   "version": "3.7.4"
  }
 },
 "nbformat": 4,
 "nbformat_minor": 2
}
